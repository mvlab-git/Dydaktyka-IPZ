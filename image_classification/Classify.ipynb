{
 "cells": [
  {
   "cell_type": "code",
   "execution_count": null,
   "metadata": {},
   "outputs": [],
   "source": [
    "import numpy as np \n",
    "import cv2 as cv\n",
    "import glob\n",
    "import matplotlib.pyplot as plt\n",
    "import os"
   ]
  },
  {
   "cell_type": "code",
   "execution_count": null,
   "metadata": {},
   "outputs": [],
   "source": [
    "image_path_train = \"output_images\\\\variant_0\"\n",
    "image_path_test = \"output_images\\\\variant_3\""
   ]
  },
  {
   "cell_type": "markdown",
   "metadata": {},
   "source": [
    "### Histogram"
   ]
  },
  {
   "cell_type": "code",
   "execution_count": null,
   "metadata": {},
   "outputs": [],
   "source": [
    "# Histogram\n",
    "def get_histogram(image):\n",
    "    return [cv.calcHist([ch], [0], None, [256], [0, 256]).flatten()/ch.size for ch in cv.split(image)]"
   ]
  },
  {
   "cell_type": "code",
   "execution_count": null,
   "metadata": {},
   "outputs": [],
   "source": [
    "test_image = cv.imread(\"TestImage.png\")\n",
    "\n",
    "hist_b, hist_g, hist_r = get_histogram(test_image)\n",
    "\n",
    "fig, axes = plt.subplots(1, 2, figsize=(10, 5))\n",
    "\n",
    "axes[0].imshow(cv.cvtColor(test_image, cv.COLOR_BGR2RGB))\n",
    "axes[0].axis('off')\n",
    "\n",
    "axes[1].plot(hist_b, color='b', linewidth=1)\n",
    "axes[1].plot(hist_g, color='g', linewidth=1)\n",
    "axes[1].plot(hist_r, color='r', linewidth=1)\n",
    "\n",
    "axes[1].grid()\n",
    "\n",
    "plt.show()"
   ]
  },
  {
   "cell_type": "markdown",
   "metadata": {},
   "source": [
    "### Background removal"
   ]
  },
  {
   "cell_type": "code",
   "execution_count": null,
   "metadata": {},
   "outputs": [],
   "source": [
    "\n",
    "for im_path in glob.glob(f\"{image_path_train}\\\\*.png\")+glob.glob(f\"{image_path_test}\\\\*.png\"):\n",
    "    if \"ROI\" in im_path or \"mask\" in im_path: continue\n",
    "    \n",
    "    im = cv.imread(im_path)\n",
    "\n",
    "    hist_b, hist_g, hist_r = get_histogram(im)\n",
    "    max_b, max_g, max_r = int(np.argmax(hist_b)), int(np.argmax(hist_g)), int(np.argmax(hist_r))\n",
    "\n",
    "    #print(f\"Max values: B:{max_b}, G:{max_g}, R:{max_r}\")\n",
    "\n",
    "    EPS = 5\n",
    "    mask = 255-cv.inRange(im, (max_b-EPS, max_g-EPS, max_r-EPS), (max_b+EPS, max_g+EPS, max_r+EPS))\n",
    "\n",
    "    mask = cv.morphologyEx(mask, cv.MORPH_OPEN, cv.getStructuringElement(cv.MORPH_ELLIPSE, (7, 7)))\n",
    "    \n",
    "    cv.imwrite(im_path.split('.')[0]+\"_mask.png\", mask)\n",
    "\n",
    "    # Find contours            \n",
    "    cntrs = cv.findContours(mask, cv.RETR_EXTERNAL, cv.CHAIN_APPROX_SIMPLE)[0]\n",
    "    if not len(cntrs): continue\n",
    "    # Merge all contours\n",
    "    cntrs = cv.convexHull(np.concatenate(cntrs))\n",
    "\n",
    "    # Bounding box and ROI\n",
    "    x1, y1, w, h = cv.boundingRect(cntrs)\n",
    "    x2, y2 = x1+w, y1+h\n",
    "\n",
    "    x1 = np.clip(x1-5, 0, im.shape[1])\n",
    "    y1 = np.clip(y1-5, 0, im.shape[0])\n",
    "    x2 = np.clip(x2+5, 0, im.shape[1])\n",
    "    y2 = np.clip(y2+5, 0, im.shape[0])\n",
    "            \n",
    "    cv.imwrite(im_path.split('.')[0]+\"_ROI.png\", im[y1:y2, x1:x2])\n",
    "\n"
   ]
  },
  {
   "cell_type": "markdown",
   "metadata": {},
   "source": [
    "### Mean histogram (per class)"
   ]
  },
  {
   "cell_type": "code",
   "execution_count": null,
   "metadata": {},
   "outputs": [],
   "source": [
    "data_image_paths = {\n",
    "    clsid: glob.glob(f\"{image_path_train}\\\\object_{clsid}*_ROI.png\")\n",
    "    for clsid in range(10)\n",
    "}\n",
    "data_mean_hist = {}"
   ]
  },
  {
   "cell_type": "code",
   "execution_count": null,
   "metadata": {},
   "outputs": [],
   "source": [
    "for clsid, impaths in data_image_paths.items():\n",
    "    images = [cv.imread(img) for img in impaths]\n",
    "    histograms = np.array([get_histogram(im) for im in images], dtype=float)\n",
    "    print(histograms.shape)\n",
    "    if histograms.shape[0] == 0: \n",
    "        histograms = np.full((1, 3, 256), 1/256)\n",
    "\n",
    "    b = np.mean(histograms[:,0,:], axis=0)\n",
    "    g = np.mean(histograms[:,1,:], axis=0)\n",
    "    r = np.mean(histograms[:,2,:], axis=0)\n",
    "\n",
    "    fig,ax = plt.subplots(1, 1, figsize=(5, 2))\n",
    "    ax.plot(b, color='b', linewidth=1)\n",
    "    ax.plot(g, color='g', linewidth=1)\n",
    "    ax.plot(r, color='r', linewidth=1)\n",
    "    ax.grid()\n",
    "    fig.tight_layout()\n",
    "    plt.show()\n",
    "\n",
    "    np.savez_compressed(f\"{image_path_train}\\\\object_{clsid}_histogram.npz\", b=b, g=g, r=r)\n",
    "\n",
    "    data_mean_hist[clsid] = b, g, r\n"
   ]
  },
  {
   "cell_type": "markdown",
   "metadata": {},
   "source": [
    "### Test - training data"
   ]
  },
  {
   "cell_type": "code",
   "execution_count": null,
   "metadata": {},
   "outputs": [],
   "source": [
    "preds, labels = [], []\n",
    "for im_path in glob.glob(f\"{image_path_train}\\\\object_*_ROI.png\"):\n",
    "\n",
    "    label = int(os.path.basename(im_path).split('object_')[1].split('-')[0])\n",
    "\n",
    "    im = cv.imread(im_path)\n",
    "\n",
    "    im_b, im_g, im_r = get_histogram(im)\n",
    "    \n",
    "    # Calculate MAE\n",
    "    mae = []\n",
    "    for clsid, (data_b, data_g, data_r) in data_mean_hist.items():\n",
    "        diff_b = np.abs(data_b-im_b)\n",
    "        diff_g = np.abs(data_g-im_g)\n",
    "        diff_r = np.abs(data_r-im_r)\n",
    "\n",
    "        mae.append(np.nanmean(diff_b)+np.nanmean(diff_g)+np.nanmean(diff_r))\n",
    "    \n",
    "    mae = np.array(mae)/np.sum(mae)\n",
    "\n",
    "    pred = np.argmin(mae)\n",
    "\n",
    "    preds.append(pred)\n",
    "    labels.append(label)\n",
    "\n",
    "    #print(f\"{label}, {pred}, {np.min(mae):.3f}\")"
   ]
  },
  {
   "cell_type": "code",
   "execution_count": null,
   "metadata": {},
   "outputs": [],
   "source": [
    "from sklearn.metrics import accuracy_score\n",
    "\n",
    "print(f\"Accuracy: {accuracy_score(labels, preds)*100:.1f}%\")\n",
    "\n",
    "from sklearn.metrics import confusion_matrix\n",
    "import seaborn as sns\n",
    "\n",
    "cm = confusion_matrix(labels, preds)\n",
    "plt.figure(figsize=(8, 8))\n",
    "sns.heatmap(cm, annot=True, fmt='d', cmap='Blues')\n",
    "plt.xlabel('Predicted')\n",
    "plt.ylabel('Ground truth')\n",
    "plt.show()"
   ]
  },
  {
   "cell_type": "markdown",
   "metadata": {},
   "source": [
    "### Test - different domain"
   ]
  },
  {
   "cell_type": "code",
   "execution_count": null,
   "metadata": {},
   "outputs": [],
   "source": [
    "preds, labels = [], []\n",
    "for im_path in glob.glob(f\"{image_path_test}\\\\object_*_ROI.png\"):\n",
    "\n",
    "    label = int(os.path.basename(im_path).split('object_')[1].split('-')[0])\n",
    "\n",
    "    im = cv.imread(im_path)\n",
    "\n",
    "    im_b, im_g, im_r = get_histogram(im)\n",
    "    \n",
    "    # Calculate MAE\n",
    "    mae = []\n",
    "    for clsid, (data_b, data_g, data_r) in data_mean_hist.items():\n",
    "        diff_b = np.abs(data_b-im_b)\n",
    "        diff_g = np.abs(data_g-im_g)\n",
    "        diff_r = np.abs(data_r-im_r)\n",
    "\n",
    "        mae.append(np.nanmean(diff_b)+np.nanmean(diff_g)+np.nanmean(diff_r))\n",
    "    \n",
    "    mae = np.array(mae)/np.sum(mae)\n",
    "\n",
    "    pred = np.argmin(mae)\n",
    "\n",
    "    preds.append(pred)\n",
    "    labels.append(label)\n",
    "\n",
    "    #print(f\"{label}, {pred}, {np.min(mae):.3f}\")\n",
    "    "
   ]
  },
  {
   "cell_type": "code",
   "execution_count": null,
   "metadata": {},
   "outputs": [],
   "source": [
    "print(f\"Accuracy: {accuracy_score(labels, preds)*100:.1f}%\")\n",
    "\n",
    "cm = confusion_matrix(labels, preds)\n",
    "plt.figure(figsize=(8, 8))\n",
    "sns.heatmap(cm, annot=True, fmt='d', cmap='Blues')\n",
    "plt.xlabel('Predicted')\n",
    "plt.ylabel('Ground truth')\n",
    "plt.show()"
   ]
  },
  {
   "cell_type": "markdown",
   "metadata": {},
   "source": [
    "### Object detection"
   ]
  },
  {
   "cell_type": "code",
   "execution_count": null,
   "metadata": {},
   "outputs": [],
   "source": [
    "\n",
    "im = cv.imread(\"DetectionTest.jpg\")\n",
    "\n",
    "plt.imshow(cv.cvtColor(im, cv.COLOR_BGR2RGB))\n",
    "plt.axis('off')\n",
    "plt.show()\n",
    "\n",
    "SLIDING_WINDOW_SIZE = 100\n",
    "STEP = SLIDING_WINDOW_SIZE\n",
    "\n",
    "w,h = int(np.ceil(im.shape[0]/SLIDING_WINDOW_SIZE)),int(np.ceil(im.shape[1]/SLIDING_WINDOW_SIZE))\n",
    "\n",
    "results = np.zeros((w,h), dtype=float)\n",
    "\n",
    "for i,y1 in enumerate(range(0, im.shape[0], STEP)):\n",
    "    y2 = np.clip(y1+SLIDING_WINDOW_SIZE, 0, im.shape[0])\n",
    "\n",
    "    for j,x1 in enumerate(range(0, im.shape[1], STEP)):        \n",
    "        x2 = np.clip(x1+SLIDING_WINDOW_SIZE, 0, im.shape[1])\n",
    "        \n",
    "        roi = im[y1:y2, x1:x2]\n",
    "        if roi.size == 0: continue\n",
    "\n",
    "        im_b, im_g, im_r = get_histogram(roi)  \n",
    "\n",
    "        data_b, data_g, data_r = data_mean_hist[0]\n",
    "        diff_b = np.abs(data_b-im_b)\n",
    "        diff_g = np.abs(data_g-im_g)\n",
    "        diff_r = np.abs(data_r-im_r)\n",
    "\n",
    "        mae = np.nanmean(diff_b)+np.nanmean(diff_g)+np.nanmean(diff_r)\n",
    "\n",
    "        results[i,j] = mae\n",
    "    \n",
    "results = 255-np.round(results/np.max(results)*255.0).astype(np.uint8)\n",
    "results = cv.resize(results, (im.shape[1], im.shape[0]), interpolation=cv.INTER_NEAREST)\n",
    "\n",
    "plt.imshow(results, cmap='hot')\n",
    "plt.axis('off')\n",
    "plt.show()\n",
    "\n",
    "    "
   ]
  },
  {
   "cell_type": "markdown",
   "metadata": {},
   "source": [
    "### Feature engineering"
   ]
  },
  {
   "cell_type": "code",
   "execution_count": null,
   "metadata": {},
   "outputs": [],
   "source": [
    "from sklearn.neighbors import KNeighborsClassifier\n",
    "from sklearn.decomposition import PCA\n",
    "\n",
    "features = []\n",
    "labels = []\n",
    "preds = []\n",
    "for clsid, impaths in data_image_paths.items():\n",
    "    for img in impaths:\n",
    "        img = cv.imread(img)\n",
    "\n",
    "        features.append(np.array(get_histogram(img), dtype=float).flatten())\n",
    "        labels.append(clsid)\n",
    "        \n",
    "features = np.array(features)\n",
    "labels = np.array(labels)\n",
    "\n",
    "pca = PCA(n_components=24)\n",
    "features = pca.fit_transform(features)\n",
    "\n",
    "print(f\"Var.: {sum(pca.explained_variance_ratio_)*100:.2f}%\")\n",
    "\n",
    "knn = KNeighborsClassifier(n_neighbors=3)\n",
    "\n",
    "preds = knn.fit(features, labels).predict(features)"
   ]
  },
  {
   "cell_type": "code",
   "execution_count": null,
   "metadata": {},
   "outputs": [],
   "source": [
    "print(f\"Accuracy: {accuracy_score(labels, preds)*100:.1f}%\")\n",
    "\n",
    "cm = confusion_matrix(labels, preds)\n",
    "plt.figure(figsize=(8, 8))\n",
    "sns.heatmap(cm, annot=True, fmt='d', cmap='Blues')\n",
    "plt.xlabel('Predicted')\n",
    "plt.ylabel('Ground truth')\n",
    "plt.show()"
   ]
  }
 ],
 "metadata": {
  "kernelspec": {
   "display_name": "env_webots",
   "language": "python",
   "name": "python3"
  },
  "language_info": {
   "codemirror_mode": {
    "name": "ipython",
    "version": 3
   },
   "file_extension": ".py",
   "mimetype": "text/x-python",
   "name": "python",
   "nbconvert_exporter": "python",
   "pygments_lexer": "ipython3",
   "version": "3.12.0"
  }
 },
 "nbformat": 4,
 "nbformat_minor": 2
}
